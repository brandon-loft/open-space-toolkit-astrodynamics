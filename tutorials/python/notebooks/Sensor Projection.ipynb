{
 "cells": [
  {
   "cell_type": "markdown",
   "metadata": {},
   "source": [
    "# Sensor Modeling"
   ]
  },
  {
   "cell_type": "markdown",
   "metadata": {},
   "source": [
    "This tutorial demonstrates how to model sensor geometries."
   ]
  },
  {
   "cell_type": "markdown",
   "metadata": {},
   "source": [
    "# Setup"
   ]
  },
  {
   "cell_type": "code",
   "execution_count": 1,
   "metadata": {},
   "outputs": [
    {
     "data": {
      "text/html": [
       "<script type=\"text/javascript\">window.PlotlyConfig = {MathJaxConfig: 'local'};</script><script type=\"text/javascript\">if (window.MathJax) {MathJax.Hub.Config({SVG: {font: \"STIX-Web\"}});}</script><script>requirejs.config({paths: { 'plotly': ['https://cdn.plot.ly/plotly-latest.min']},});if(!window._Plotly) {require(['plotly'],function(plotly) {window._Plotly=plotly;});}</script>"
      ],
      "text/vnd.plotly.v1+html": [
       "<script type=\"text/javascript\">window.PlotlyConfig = {MathJaxConfig: 'local'};</script><script type=\"text/javascript\">if (window.MathJax) {MathJax.Hub.Config({SVG: {font: \"STIX-Web\"}});}</script><script>requirejs.config({paths: { 'plotly': ['https://cdn.plot.ly/plotly-latest.min']},});if(!window._Plotly) {require(['plotly'],function(plotly) {window._Plotly=plotly;});}</script>"
      ]
     },
     "metadata": {},
     "output_type": "display_data"
    }
   ],
   "source": [
    "from IPython.display import Javascript, display\n",
    "from ipywidgets import interact, interactive, fixed, interact_manual\n",
    "import ipywidgets as widgets\n",
    "\n",
    "import numpy as np\n",
    "import pandas as pd\n",
    "\n",
    "from plotly.offline import download_plotlyjs, init_notebook_mode, plot, iplot\n",
    "import plotly.graph_objs as go\n",
    "import plotly.io as pio\n",
    "\n",
    "init_notebook_mode(connected = True)"
   ]
  },
  {
   "cell_type": "code",
   "execution_count": 2,
   "metadata": {},
   "outputs": [
    {
     "name": "stderr",
     "output_type": "stream",
     "text": [
      "/opt/conda/lib/python3.6/importlib/_bootstrap.py:219: RuntimeWarning:\n",
      "\n",
      "to-Python converter for ostk::physics::time::DateTime already registered; second conversion method ignored.\n",
      "\n",
      "/opt/conda/lib/python3.6/importlib/_bootstrap.py:219: RuntimeWarning:\n",
      "\n",
      "to-Python converter for ostk::math::obj::IntervalBase::Type already registered; second conversion method ignored.\n",
      "\n"
     ]
    }
   ],
   "source": [
    "import ostk.mathematics as mathematics\n",
    "import ostk.physics as physics\n",
    "import ostk.astrodynamics as astrodynamics"
   ]
  },
  {
   "cell_type": "code",
   "execution_count": 3,
   "metadata": {},
   "outputs": [],
   "source": [
    "Object2 = Mathematics.Geometry.D2.Object\n",
    "Point2 = Mathematics.Geometry.D2.Objects.Point\n",
    "LineString2 = Mathematics.Geometry.D2.Objects.LineString\n",
    "Polygon2 = Mathematics.Geometry.D2.Objects.Polygon\n",
    "Point3 = Mathematics.Geometry.D3.Objects.Point\n",
    "Polygon3 = Mathematics.Geometry.D3.Objects.Polygon\n",
    "Ellipsoid = Mathematics.Geometry.D3.Objects.Ellipsoid\n",
    "Pyramid = Mathematics.Geometry.D3.Objects.Pyramid\n",
    "Cone = Mathematics.Geometry.D3.Objects.Cone\n",
    "Quaternion = Mathematics.Geometry.D3.Transformations.Rotations.Quaternion\n",
    "RotationVector = Mathematics.Geometry.D3.Transformations.Rotations.RotationVector\n",
    "RotationMatrix = Mathematics.Geometry.D3.Transformations.Rotations.RotationMatrix\n",
    "\n",
    "Length = Physics.Units.Length\n",
    "Angle = Physics.Units.Angle\n",
    "Scale = Physics.Time.Scale\n",
    "Instant = Physics.Time.Instant\n",
    "Duration = Physics.Time.Duration\n",
    "Interval = Physics.Time.Interval\n",
    "DateTime = Physics.Time.DateTime\n",
    "LLA = Physics.Coordinate.Spherical.LLA\n",
    "AER = Physics.Coordinate.Spherical.AER\n",
    "Position = Physics.Coordinate.Position\n",
    "Velocity = Physics.Coordinate.Velocity\n",
    "Frame = Physics.Coordinate.Frame\n",
    "Transform = Physics.Coordinate.Transform\n",
    "Environment = Physics.Environment\n",
    "Geometry = Physics.Environment.Object.Geometry\n",
    "Celestial = Physics.Environment.Objects.Celestial\n",
    "Earth = Physics.Environment.Objects.CelestialBodies.Earth\n",
    "\n",
    "Trajectory = Astrodynamics.Trajectory\n",
    "Orbit = Astrodynamics.Trajectory.Orbit\n",
    "State = Astrodynamics.Trajectory.State\n",
    "Access = Astrodynamics.Access"
   ]
  },
  {
   "cell_type": "markdown",
   "metadata": {},
   "source": [
    "---"
   ]
  },
  {
   "cell_type": "markdown",
   "metadata": {},
   "source": [
    "## Computation"
   ]
  },
  {
   "cell_type": "markdown",
   "metadata": {},
   "source": [
    "### Environment"
   ]
  },
  {
   "cell_type": "code",
   "execution_count": 4,
   "metadata": {},
   "outputs": [],
   "source": [
    "environment = Environment.Default()"
   ]
  },
  {
   "cell_type": "code",
   "execution_count": 5,
   "metadata": {},
   "outputs": [],
   "source": [
    "earth = environment.accessCelestialObjectWithName(\"Earth\")"
   ]
  },
  {
   "cell_type": "code",
   "execution_count": 6,
   "metadata": {},
   "outputs": [],
   "source": [
    "earth_geometry = earth.getGeometryIn(Frame.ITRF())"
   ]
  },
  {
   "cell_type": "code",
   "execution_count": 7,
   "metadata": {},
   "outputs": [],
   "source": [
    "first = True\n",
    "first = False"
   ]
  },
  {
   "cell_type": "code",
   "execution_count": 8,
   "metadata": {},
   "outputs": [],
   "source": [
    "yaw = Angle.Degrees(180.0)"
   ]
  },
  {
   "cell_type": "code",
   "execution_count": 9,
   "metadata": {},
   "outputs": [],
   "source": [
    "instant = Instant.DateTime(DateTime(2018, 9, 1, 0, 0, 0), Scale.UTC)"
   ]
  },
  {
   "cell_type": "markdown",
   "metadata": {},
   "source": [
    "### Satellite"
   ]
  },
  {
   "cell_type": "code",
   "execution_count": 10,
   "metadata": {},
   "outputs": [],
   "source": [
    "if first:\n",
    "    \n",
    "    latitude = Angle.Degrees(0.0)\n",
    "    longitude = Angle.Degrees(0.0)\n",
    "    altitude = Length.Kilometers(700.0)\n",
    "    \n",
    "else:\n",
    "    \n",
    "    latitude = Angle.Degrees(0.0)\n",
    "    longitude = Angle.Degrees(180)\n",
    "    altitude = Length.Kilometers(700.0)"
   ]
  },
  {
   "cell_type": "code",
   "execution_count": 11,
   "metadata": {},
   "outputs": [],
   "source": [
    "lla = LLA(latitude, longitude, altitude)"
   ]
  },
  {
   "cell_type": "code",
   "execution_count": 12,
   "metadata": {},
   "outputs": [],
   "source": [
    "def body_frame_transform_generator_ITRF (instant):\n",
    "    \n",
    "    q_NED_ITRF = Frame.ITRF().getTransformTo(earth.getFrameAt(lla, Celestial.FrameType.NED), instant).getOrientation()\n",
    "    \n",
    "    x_B_ITRF = lla.toCartesian(Earth.EquatorialRadius, Earth.Flattening)\n",
    "    v_B_ITRF = np.array((0.0, 0.0, 0.0))\n",
    "\n",
    "    q_B_ITRF = q_NED_ITRF\n",
    "    w_B_ITRF_in_B = np.array((0.0, 0.0, 0.0))\n",
    "    \n",
    "    rv_ORB_B = RotationVector.Z(yaw)\n",
    "    dcm_ORB_B = RotationMatrix.RotationVector(rv_ORB_B)\n",
    "    q_ORB_B = Quaternion.RotationMatrix(dcm_ORB_B)\n",
    "    \n",
    "#     print(q_NED_ITRF.toString())\n",
    "    \n",
    "#     print(rv_ORB_B)\n",
    "#     print(dcm_ORB_B)\n",
    "#     print(q_ORB_B.toString())\n",
    "    \n",
    "    q_B_ORB = q_ORB_B.toConjugate()\n",
    "\n",
    "    q_B_ITRF = (q_B_ORB * q_NED_ITRF).toNormalized()\n",
    "    \n",
    "#     print(q_B_ITRF.toString())\n",
    "    \n",
    "    dcm_ITRF_NED = RotationMatrix.Quaternion(q_NED_ITRF.toConjugate())\n",
    "    dcm_ITRF_B = RotationMatrix.Quaternion(q_B_ITRF.toConjugate())\n",
    "    \n",
    "#     print('dcm_ORB_B:', dcm_ORB_B)\n",
    "#     print('dcm_ITRF_NED:', dcm_ITRF_NED)\n",
    "#     print('dcm_ITRF_B:', dcm_ITRF_B)\n",
    "    \n",
    "    return Transform.Passive(instant, -x_B_ITRF, v_B_ITRF, q_B_ITRF, w_B_ITRF_in_B)\n",
    "\n",
    "if Frame.Exists(\"Body\"):\n",
    "\n",
    "    Frame.Destruct(\"Body\")\n",
    "\n",
    "body_frame = Frame.Construct(\"Body\", False, Frame.ITRF(), Frame.Providers.Dynamic(body_frame_transform_generator_ITRF))"
   ]
  },
  {
   "cell_type": "markdown",
   "metadata": {},
   "source": [
    "### Sensor"
   ]
  },
  {
   "cell_type": "code",
   "execution_count": 13,
   "metadata": {},
   "outputs": [],
   "source": [
    "apex_B = Point3(0.0, 0.0, 0.0)\n",
    "base_B = Polygon3(Polygon2([Point2(-1.0, -1.0), Point2(+1.0, -1.0), Point2(+1.0, +1.0), Point2(-1.0, +1.0)]), apex_B + np.array((0.0, 0.0, 1.0)), np.array((1.0, 0.0, 0.0)), np.array((0.0, 1.0, 0.0)))\n",
    "# base_B = Polygon3(Polygon2([Point2(0.0, 0.0), Point2(0.0, 0.0), Point2(0.0, 0.0), Point2(0.0, 0.0)]), apex_B + np.array((0.0, 0.0, 1.0)), np.array((1.0, 0.0, 0.0)), np.array((0.0, 1.0, 0.0)))\n",
    "\n",
    "pyramid_B = Pyramid(base_B, apex_B)"
   ]
  },
  {
   "cell_type": "code",
   "execution_count": 14,
   "metadata": {},
   "outputs": [],
   "source": [
    "cone_B = Cone(apex_B, np.array((0.0, 0.0, 1.0)), Angle.Degrees(40.0))"
   ]
  },
  {
   "cell_type": "code",
   "execution_count": 15,
   "metadata": {},
   "outputs": [],
   "source": [
    "# sensor_geometry = Geometry(pyramid_B, body_frame)\n",
    "sensor_geometry = Geometry(cone_B, body_frame)"
   ]
  },
  {
   "cell_type": "markdown",
   "metadata": {},
   "source": [
    "### Intersection"
   ]
  },
  {
   "cell_type": "code",
   "execution_count": 16,
   "metadata": {},
   "outputs": [],
   "source": [
    "def calculate_intersection (instant, sensor_geometry):\n",
    "    \n",
    "    sensor_geometry_ITRF = sensor_geometry.inFrame(Frame.ITRF(), instant)\n",
    "    \n",
    "#     print(sensor_geometry_ITRF)\n",
    "    \n",
    "    intersection_ITRF = sensor_geometry_ITRF.intersectionWith(earth_geometry)\n",
    "        \n",
    "#     print(intersection_ITRF)\n",
    "    \n",
    "    if not intersection_ITRF.isDefined():\n",
    "    \n",
    "        return None\n",
    "    \n",
    "    return intersection_ITRF"
   ]
  },
  {
   "cell_type": "code",
   "execution_count": 17,
   "metadata": {},
   "outputs": [],
   "source": [
    "intersection_ITRF = calculate_intersection(instant, sensor_geometry)"
   ]
  },
  {
   "cell_type": "code",
   "execution_count": 18,
   "metadata": {},
   "outputs": [],
   "source": [
    "intersection_LLs = [[float(lla.getLongitude().inDegrees()), float(lla.getLatitude().inDegrees())] for lla in [LLA.Cartesian(point_ITRF.asVector(), Earth.EquatorialRadius, Earth.Flattening) for point_ITRF in intersection_ITRF.accessComposite().accessObjectAt(0).asLineString()]]"
   ]
  },
  {
   "cell_type": "code",
   "execution_count": 19,
   "metadata": {},
   "outputs": [],
   "source": [
    "# intersection_LLs"
   ]
  },
  {
   "cell_type": "code",
   "execution_count": 20,
   "metadata": {},
   "outputs": [
    {
     "data": {
      "application/vnd.plotly.v1+json": {
       "config": {
        "linkText": "Export to plot.ly",
        "plotlyServerURL": "https://plot.ly",
        "showLink": false
       },
       "data": [
        {
         "lat": [
          0,
          0.8659613518662628,
          1.7108211876268342,
          2.5139497354838727,
          3.255659292609773,
          3.9176696576725107,
          4.483561521691248,
          4.939206173755707,
          5.273155640205496,
          5.476974544587073,
          5.545494528141552,
          5.476974544587073,
          5.273155640205499,
          4.939206173755707,
          4.483561521691254,
          3.917669657672514,
          3.255659292609777,
          2.5139497354838745,
          1.7108211876268358,
          0.8659613518662633,
          6.778874060135703e-16,
          -0.8659613518662621,
          -1.7108211876268344,
          -2.5139497354838727,
          -3.2556592926097734,
          -3.917669657672512,
          -4.483561521691252,
          -4.939206173755707,
          -5.273155640205497,
          -5.476974544587073,
          -5.545494528141552,
          -5.476974544587074,
          -5.273155640205499,
          -4.939206173755708,
          -4.483561521691252,
          -3.917669657672514,
          -3.255659292609772,
          -2.5139497354838727,
          -1.710821187626836,
          -0.8659613518662641,
          0
         ],
         "line": {
          "color": "rgba(0, 0, 255, 0.5)",
          "width": 1
         },
         "lon": [
          174.49321094369336,
          174.56055576390662,
          174.76102997666092,
          175.0899703113667,
          175.53966678756822,
          176.09946864834995,
          176.7559550020675,
          177.49318568428893,
          178.29304375162013,
          179.13567267213065,
          180,
          -179.13567267213065,
          -178.29304375162013,
          -177.49318568428896,
          -176.75595500206757,
          -176.09946864834995,
          -175.53966678756828,
          -175.08997031136673,
          -174.76102997666092,
          -174.56055576390665,
          -174.4932109436934,
          -174.56055576390665,
          -174.76102997666092,
          -175.08997031136673,
          -175.53966678756828,
          -176.09946864834995,
          -176.75595500206757,
          -177.49318568428896,
          -178.29304375162013,
          -179.13567267213065,
          180,
          179.13567267213065,
          178.29304375162013,
          177.49318568428893,
          176.7559550020675,
          176.09946864834995,
          175.53966678756822,
          175.0899703113667,
          174.76102997666092,
          174.56055576390662,
          174.49321094369336
         ],
         "marker": {
          "color": "red",
          "size": 10
         },
         "mode": "markers",
         "type": "scattergeo",
         "uid": "7cf8f420-06ea-413f-a784-067cbda851a2"
        }
       ],
       "layout": {
        "autosize": true,
        "geo": {
         "countrycolor": "rgb(204, 204, 204)",
         "landcolor": "rgb(243, 243, 243)",
         "lataxis": {
          "gridcolor": "rgb(102, 102, 102)",
          "gridwidth": 0.1,
          "showgrid": true
         },
         "lonaxis": {
          "gridcolor": "rgb(102, 102, 102)",
          "gridwidth": 0.1,
          "showgrid": true
         },
         "showland": true
        },
        "showlegend": false
       }
      },
      "image/png": "[encoded data removed]",
      "text/html": [
       "<div id=\"3e70ff8e-19db-49f6-a7f1-9930d82402f8\" style=\"height: 525px; width: 100%;\" class=\"plotly-graph-div\"></div><script type=\"text/javascript\">require([\"plotly\"], function(Plotly) { window.PLOTLYENV=window.PLOTLYENV || {};window.PLOTLYENV.BASE_URL=\"https://plot.ly\";Plotly.newPlot(\"3e70ff8e-19db-49f6-a7f1-9930d82402f8\", [{\"lat\": [0.0, 0.8659613518662628, 1.7108211876268342, 2.5139497354838727, 3.255659292609773, 3.9176696576725107, 4.483561521691248, 4.939206173755707, 5.273155640205496, 5.476974544587073, 5.545494528141552, 5.476974544587073, 5.273155640205499, 4.939206173755707, 4.483561521691254, 3.917669657672514, 3.255659292609777, 2.5139497354838745, 1.7108211876268358, 0.8659613518662633, 6.778874060135703e-16, -0.8659613518662621, -1.7108211876268344, -2.5139497354838727, -3.2556592926097734, -3.917669657672512, -4.483561521691252, -4.939206173755707, -5.273155640205497, -5.476974544587073, -5.545494528141552, -5.476974544587074, -5.273155640205499, -4.939206173755708, -4.483561521691252, -3.917669657672514, -3.255659292609772, -2.5139497354838727, -1.710821187626836, -0.8659613518662641, 0.0], \"line\": {\"color\": \"rgba(0, 0, 255, 0.5)\", \"width\": 1}, \"lon\": [174.49321094369336, 174.56055576390662, 174.76102997666092, 175.0899703113667, 175.53966678756822, 176.09946864834995, 176.7559550020675, 177.49318568428893, 178.29304375162013, 179.13567267213065, 180.0, -179.13567267213065, -178.29304375162013, -177.49318568428896, -176.75595500206757, -176.09946864834995, -175.53966678756828, -175.08997031136673, -174.76102997666092, -174.56055576390665, -174.4932109436934, -174.56055576390665, -174.76102997666092, -175.08997031136673, -175.53966678756828, -176.09946864834995, -176.75595500206757, -177.49318568428896, -178.29304375162013, -179.13567267213065, 180.0, 179.13567267213065, 178.29304375162013, 177.49318568428893, 176.7559550020675, 176.09946864834995, 175.53966678756822, 175.0899703113667, 174.76102997666092, 174.56055576390662, 174.49321094369336], \"marker\": {\"color\": \"red\", \"size\": 10}, \"mode\": \"markers\", \"type\": \"scattergeo\", \"uid\": \"06cdd348-44d0-46d7-bf10-4c77ee7c6683\"}], {\"geo\": {\"countrycolor\": \"rgb(204, 204, 204)\", \"landcolor\": \"rgb(243, 243, 243)\", \"lataxis\": {\"gridcolor\": \"rgb(102, 102, 102)\", \"gridwidth\": 0.1, \"showgrid\": true}, \"lonaxis\": {\"gridcolor\": \"rgb(102, 102, 102)\", \"gridwidth\": 0.1, \"showgrid\": true}, \"showland\": true}, \"showlegend\": false}, {\"showLink\": false, \"linkText\": \"Export to plot.ly\", \"plotlyServerURL\": \"https://plot.ly\"})});</script><script type=\"text/javascript\">window.addEventListener(\"resize\", function(){window._Plotly.Plots.resize(document.getElementById(\"3e70ff8e-19db-49f6-a7f1-9930d82402f8\"));});</script>"
      ],
      "text/vnd.plotly.v1+html": [
       "<div id=\"3e70ff8e-19db-49f6-a7f1-9930d82402f8\" style=\"height: 525px; width: 100%;\" class=\"plotly-graph-div\"></div><script type=\"text/javascript\">require([\"plotly\"], function(Plotly) { window.PLOTLYENV=window.PLOTLYENV || {};window.PLOTLYENV.BASE_URL=\"https://plot.ly\";Plotly.newPlot(\"3e70ff8e-19db-49f6-a7f1-9930d82402f8\", [{\"lat\": [0.0, 0.8659613518662628, 1.7108211876268342, 2.5139497354838727, 3.255659292609773, 3.9176696576725107, 4.483561521691248, 4.939206173755707, 5.273155640205496, 5.476974544587073, 5.545494528141552, 5.476974544587073, 5.273155640205499, 4.939206173755707, 4.483561521691254, 3.917669657672514, 3.255659292609777, 2.5139497354838745, 1.7108211876268358, 0.8659613518662633, 6.778874060135703e-16, -0.8659613518662621, -1.7108211876268344, -2.5139497354838727, -3.2556592926097734, -3.917669657672512, -4.483561521691252, -4.939206173755707, -5.273155640205497, -5.476974544587073, -5.545494528141552, -5.476974544587074, -5.273155640205499, -4.939206173755708, -4.483561521691252, -3.917669657672514, -3.255659292609772, -2.5139497354838727, -1.710821187626836, -0.8659613518662641, 0.0], \"line\": {\"color\": \"rgba(0, 0, 255, 0.5)\", \"width\": 1}, \"lon\": [174.49321094369336, 174.56055576390662, 174.76102997666092, 175.0899703113667, 175.53966678756822, 176.09946864834995, 176.7559550020675, 177.49318568428893, 178.29304375162013, 179.13567267213065, 180.0, -179.13567267213065, -178.29304375162013, -177.49318568428896, -176.75595500206757, -176.09946864834995, -175.53966678756828, -175.08997031136673, -174.76102997666092, -174.56055576390665, -174.4932109436934, -174.56055576390665, -174.76102997666092, -175.08997031136673, -175.53966678756828, -176.09946864834995, -176.75595500206757, -177.49318568428896, -178.29304375162013, -179.13567267213065, 180.0, 179.13567267213065, 178.29304375162013, 177.49318568428893, 176.7559550020675, 176.09946864834995, 175.53966678756822, 175.0899703113667, 174.76102997666092, 174.56055576390662, 174.49321094369336], \"marker\": {\"color\": \"red\", \"size\": 10}, \"mode\": \"markers\", \"type\": \"scattergeo\", \"uid\": \"06cdd348-44d0-46d7-bf10-4c77ee7c6683\"}], {\"geo\": {\"countrycolor\": \"rgb(204, 204, 204)\", \"landcolor\": \"rgb(243, 243, 243)\", \"lataxis\": {\"gridcolor\": \"rgb(102, 102, 102)\", \"gridwidth\": 0.1, \"showgrid\": true}, \"lonaxis\": {\"gridcolor\": \"rgb(102, 102, 102)\", \"gridwidth\": 0.1, \"showgrid\": true}, \"showland\": true}, \"showlegend\": false}, {\"showLink\": false, \"linkText\": \"Export to plot.ly\", \"plotlyServerURL\": \"https://plot.ly\"})});</script><script type=\"text/javascript\">window.addEventListener(\"resize\", function(){window._Plotly.Plots.resize(document.getElementById(\"3e70ff8e-19db-49f6-a7f1-9930d82402f8\"));});</script>"
      ]
     },
     "metadata": {},
     "output_type": "display_data"
    }
   ],
   "source": [
    "data = []\n",
    "\n",
    "data.append(\n",
    "    dict(\n",
    "        type = 'scattergeo',\n",
    "        lon = [*[intersection_LL[0] for intersection_LL in intersection_LLs], intersection_LLs[0][0]],\n",
    "        lat = [*[intersection_LL[1] for intersection_LL in intersection_LLs], intersection_LLs[0][1]],\n",
    "        mode = 'markers',\n",
    "        marker=dict(\n",
    "            size=10,\n",
    "            color = 'red'\n",
    "        ),\n",
    "        line = dict(\n",
    "            width = 1,\n",
    "            color = 'rgba(0, 0, 255, 0.5)',\n",
    "        )\n",
    "    )\n",
    ")\n",
    "    \n",
    "layout = dict(\n",
    "        title = None,\n",
    "        showlegend = False,\n",
    "#         width=1000,\n",
    "        geo = dict(\n",
    "            showland = True,\n",
    "            landcolor = 'rgb(243, 243, 243)',\n",
    "            countrycolor = 'rgb(204, 204, 204)',\n",
    "            lonaxis = dict( \n",
    "                showgrid = True,\n",
    "                gridcolor = 'rgb(102, 102, 102)',\n",
    "                gridwidth = 0.1\n",
    "            ),\n",
    "            lataxis = dict( \n",
    "                showgrid = True,\n",
    "                gridcolor = 'rgb(102, 102, 102)',\n",
    "                gridwidth = 0.1\n",
    "            )\n",
    "        ),\n",
    "    )\n",
    "    \n",
    "fig = dict(data=data, layout=layout)\n",
    "iplot(fig)"
   ]
  }
 ],
 "metadata": {
  "kernelspec": {
   "display_name": "Python 3",
   "language": "python",
   "name": "python3"
  },
  "language_info": {
   "codemirror_mode": {
    "name": "ipython",
    "version": 3
   },
   "file_extension": ".py",
   "mimetype": "text/x-python",
   "name": "python",
   "nbconvert_exporter": "python",
   "pygments_lexer": "ipython3",
   "version": "3.7.3"
  }
 },
 "nbformat": 4,
 "nbformat_minor": 4
}
