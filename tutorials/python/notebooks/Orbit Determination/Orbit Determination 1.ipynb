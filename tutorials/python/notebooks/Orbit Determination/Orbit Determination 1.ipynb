{
 "cells": [
  {
   "cell_type": "markdown",
   "metadata": {},
   "source": [
    "# Orbit Determination 1"
   ]
  },
  {
   "cell_type": "markdown",
   "metadata": {},
   "source": [
    "This tutorial demonstrates how to determine a satellite orbit using Kalman filtering."
   ]
  },
  {
   "cell_type": "markdown",
   "metadata": {},
   "source": [
    "## Setup"
   ]
  },
  {
   "cell_type": "code",
   "execution_count": 2,
   "metadata": {},
   "outputs": [],
   "source": [
    "import numpy as np\n",
    "import pandas as pd\n",
    "\n",
    "import plotly.graph_objs as go"
   ]
  },
  {
   "cell_type": "code",
   "execution_count": 18,
   "metadata": {},
   "outputs": [],
   "source": [
    "from ostk.physics.units import Length\n",
    "from ostk.physics.units import Angle\n",
    "from ostk.physics.time import Scale\n",
    "from ostk.physics.time import Instant\n",
    "from ostk.physics.time import Interval\n",
    "from ostk.physics.time import Duration\n",
    "from ostk.physics.time import DateTime\n",
    "from ostk.physics.coordinate import Frame\n",
    "from ostk.physics.coordinate.spherical import LLA\n",
    "from ostk.physics import Environment\n",
    "from ostk.physics.environment.objects.celestial_bodies import Earth\n",
    "\n",
    "from ostk.astrodynamics.trajectory import Orbit\n",
    "\n",
    "from ostk.astrodynamics.trajectory.orbit.models import Kepler\n",
    "from ostk.astrodynamics.trajectory.orbit.models.kepler import COE\n",
    "\n",
    "from ostk.astrodynamics.trajectory.orbit.models import SGP4\n",
    "from ostk.astrodynamics.trajectory.orbit.models.sgp4 import TLE"
   ]
  },
  {
   "cell_type": "markdown",
   "metadata": {},
   "source": [
    "---"
   ]
  },
  {
   "cell_type": "markdown",
   "metadata": {},
   "source": [
    "## Computation"
   ]
  },
  {
   "cell_type": "code",
   "execution_count": 34,
   "metadata": {},
   "outputs": [],
   "source": [
    "environment = Environment.default()"
   ]
  },
  {
   "cell_type": "markdown",
   "metadata": {},
   "source": [
    "Create a Classical Orbital Element (COE) set:"
   ]
  },
  {
   "cell_type": "code",
   "execution_count": 35,
   "metadata": {},
   "outputs": [],
   "source": [
    "a = Length.kilometers(7000.0)\n",
    "e = 0.0001\n",
    "i = Angle.degrees(35.0)\n",
    "raan = Angle.degrees(40.0)\n",
    "aop = Angle.degrees(45.0)\n",
    "nu = Angle.degrees(50.0)\n",
    "\n",
    "coe = COE(a, e, i, raan, aop, nu)"
   ]
  },
  {
   "cell_type": "markdown",
   "metadata": {},
   "source": [
    "Setup a Keplerian orbital model:"
   ]
  },
  {
   "cell_type": "code",
   "execution_count": 36,
   "metadata": {},
   "outputs": [],
   "source": [
    "epoch = Instant.date_time(DateTime(2018, 1, 1, 0, 0, 0), Scale.UTC)\n",
    "earth = environment.access_celestial_object_with_name(\"Earth\")\n",
    "\n",
    "keplerian_model = Kepler(coe, epoch, earth, Kepler.PerturbationType.No)"
   ]
  },
  {
   "cell_type": "code",
   "execution_count": 37,
   "metadata": {},
   "outputs": [],
   "source": [
    "tle = TLE(\n",
    "    \"1 39419U 13066D   18260.77424112  .00000022  00000-0  72885-5 0  9996\",\n",
    "    \"2 39419  97.6300 326.6556 0013847 175.2842 184.8495 14.93888428262811\"\n",
    ")"
   ]
  },
  {
   "cell_type": "markdown",
   "metadata": {},
   "source": [
    "Setup the orbit:"
   ]
  },
  {
   "cell_type": "code",
   "execution_count": 38,
   "metadata": {},
   "outputs": [],
   "source": [
    "orbit = Orbit(keplerian_model, environment.access_celestial_object_with_name(\"Earth\"))"
   ]
  },
  {
   "cell_type": "markdown",
   "metadata": {},
   "source": [
    "Now that the orbit is set, we can compute the satellite position:"
   ]
  },
  {
   "cell_type": "code",
   "execution_count": 39,
   "metadata": {},
   "outputs": [],
   "source": [
    "start_instant = Instant.date_time(DateTime(2018, 9, 5, 0, 0, 0), Scale.UTC)\n",
    "end_instant = Instant.date_time(DateTime(2018, 9, 6, 0, 0, 0), Scale.UTC)"
   ]
  },
  {
   "cell_type": "code",
   "execution_count": 40,
   "metadata": {},
   "outputs": [],
   "source": [
    "interval = Interval.closed(start_instant, end_instant)"
   ]
  },
  {
   "cell_type": "code",
   "execution_count": 41,
   "metadata": {},
   "outputs": [],
   "source": [
    "step = Duration.minutes(1.0)"
   ]
  },
  {
   "cell_type": "markdown",
   "metadata": {},
   "source": [
    "Generate a time grid:"
   ]
  },
  {
   "cell_type": "code",
   "execution_count": 42,
   "metadata": {},
   "outputs": [],
   "source": [
    "instants = interval.generate_grid(step)"
   ]
  },
  {
   "cell_type": "code",
   "execution_count": 43,
   "metadata": {},
   "outputs": [],
   "source": [
    "states = [[instant, orbit.get_state_at(instant)] for instant in instants]"
   ]
  },
  {
   "cell_type": "code",
   "execution_count": 44,
   "metadata": {},
   "outputs": [],
   "source": [
    "def convert_state (instant, state):\n",
    "    \n",
    "    lla = LLA.cartesian(\n",
    "        state.get_position().in_frame(Frame.ITRF(), state.get_instant()).get_coordinates(),\n",
    "        Earth.equatorial_radius,\n",
    "        Earth.flattening\n",
    "    )\n",
    "    \n",
    "    return [\n",
    "                repr(instant),\n",
    "                float(instant.get_modified_julian_date(Scale.UTC)),\n",
    "                *state.get_position().get_coordinates().transpose()[0].tolist(),\n",
    "                *state.get_velocity().get_coordinates().transpose()[0].tolist(),\n",
    "                float(lla.get_latitude().in_degrees()),\n",
    "                float(lla.get_longitude().in_degrees()),\n",
    "                float(lla.get_altitude().in_meters())\n",
    "            ]"
   ]
  },
  {
   "cell_type": "code",
   "execution_count": 31,
   "metadata": {},
   "outputs": [],
   "source": [
    "orbit_data = [convert_state(instant, state) for [instant, state] in states]"
   ]
  },
  {
   "cell_type": "code",
   "execution_count": 32,
   "metadata": {},
   "outputs": [],
   "source": [
    "orbit_df = pd.DataFrame(orbit_data, columns=['$Time^{UTC}$', '$MJD^{UTC}$', '$x_{x}^{ECI}$', '$x_{y}^{ECI}$', '$x_{z}^{ECI}$', '$v_{x}^{ECI}$', '$v_{y}^{ECI}$', '$v_{z}^{ECI}$', '$Latitude$', '$Longitude$', '$Altitude$'])"
   ]
  },
  {
   "cell_type": "code",
   "execution_count": 33,
   "metadata": {},
   "outputs": [
    {
     "data": {
      "text/html": [
       "<div>\n",
       "<style scoped>\n",
       "    .dataframe tbody tr th:only-of-type {\n",
       "        vertical-align: middle;\n",
       "    }\n",
       "\n",
       "    .dataframe tbody tr th {\n",
       "        vertical-align: top;\n",
       "    }\n",
       "\n",
       "    .dataframe thead th {\n",
       "        text-align: right;\n",
       "    }\n",
       "</style>\n",
       "<table border=\"1\" class=\"dataframe\">\n",
       "  <thead>\n",
       "    <tr style=\"text-align: right;\">\n",
       "      <th></th>\n",
       "      <th>$Time^{UTC}$</th>\n",
       "      <th>$MJD^{UTC}$</th>\n",
       "      <th>$x_{x}^{ECI}$</th>\n",
       "      <th>$x_{y}^{ECI}$</th>\n",
       "      <th>$x_{z}^{ECI}$</th>\n",
       "      <th>$v_{x}^{ECI}$</th>\n",
       "      <th>$v_{y}^{ECI}$</th>\n",
       "      <th>$v_{z}^{ECI}$</th>\n",
       "      <th>$Latitude$</th>\n",
       "      <th>$Longitude$</th>\n",
       "      <th>$Altitude$</th>\n",
       "    </tr>\n",
       "  </thead>\n",
       "  <tbody>\n",
       "    <tr>\n",
       "      <th>0</th>\n",
       "      <td>2018-09-05 00:00:00 [UTC]</td>\n",
       "      <td>58366.000000</td>\n",
       "      <td>2.237807e+06</td>\n",
       "      <td>-5.373364e+06</td>\n",
       "      <td>-3.889422e+06</td>\n",
       "      <td>6585.969931</td>\n",
       "      <td>3521.633618</td>\n",
       "      <td>-1075.275110</td>\n",
       "      <td>-33.872105</td>\n",
       "      <td>-51.142445</td>\n",
       "      <td>629072.508843</td>\n",
       "    </tr>\n",
       "    <tr>\n",
       "      <th>1</th>\n",
       "      <td>2018-09-05 00:01:00 [UTC]</td>\n",
       "      <td>58366.000694</td>\n",
       "      <td>2.628012e+06</td>\n",
       "      <td>-5.150981e+06</td>\n",
       "      <td>-3.945763e+06</td>\n",
       "      <td>6416.316575</td>\n",
       "      <td>3888.579046</td>\n",
       "      <td>-802.090833</td>\n",
       "      <td>-34.422767</td>\n",
       "      <td>-46.973547</td>\n",
       "      <td>629238.609524</td>\n",
       "    </tr>\n",
       "    <tr>\n",
       "      <th>2</th>\n",
       "      <td>2018-09-05 00:02:00 [UTC]</td>\n",
       "      <td>58366.001389</td>\n",
       "      <td>3.007229e+06</td>\n",
       "      <td>-4.907060e+06</td>\n",
       "      <td>-3.985606e+06</td>\n",
       "      <td>6219.834159</td>\n",
       "      <td>4239.269980</td>\n",
       "      <td>-525.549955</td>\n",
       "      <td>-34.812566</td>\n",
       "      <td>-42.755088</td>\n",
       "      <td>629347.551276</td>\n",
       "    </tr>\n",
       "    <tr>\n",
       "      <th>3</th>\n",
       "      <td>2018-09-05 00:03:00 [UTC]</td>\n",
       "      <td>58366.002083</td>\n",
       "      <td>3.373872e+06</td>\n",
       "      <td>-4.642623e+06</td>\n",
       "      <td>-4.008785e+06</td>\n",
       "      <td>5997.343391</td>\n",
       "      <td>4572.240113</td>\n",
       "      <td>-246.808377</td>\n",
       "      <td>-35.037660</td>\n",
       "      <td>-38.503428</td>\n",
       "      <td>629397.187736</td>\n",
       "    </tr>\n",
       "    <tr>\n",
       "      <th>4</th>\n",
       "      <td>2018-09-05 00:04:00 [UTC]</td>\n",
       "      <td>58366.002778</td>\n",
       "      <td>3.726408e+06</td>\n",
       "      <td>-4.358774e+06</td>\n",
       "      <td>-4.015202e+06</td>\n",
       "      <td>5749.773689</td>\n",
       "      <td>4886.097113</td>\n",
       "      <td>32.968751</td>\n",
       "      <td>-35.095786</td>\n",
       "      <td>-34.236241</td>\n",
       "      <td>629386.330405</td>\n",
       "    </tr>\n",
       "  </tbody>\n",
       "</table>\n",
       "</div>"
      ],
      "text/plain": [
       "                $Time^{UTC}$   $MJD^{UTC}$  $x_{x}^{ECI}$  $x_{y}^{ECI}$  \\\n",
       "0  2018-09-05 00:00:00 [UTC]  58366.000000   2.237807e+06  -5.373364e+06   \n",
       "1  2018-09-05 00:01:00 [UTC]  58366.000694   2.628012e+06  -5.150981e+06   \n",
       "2  2018-09-05 00:02:00 [UTC]  58366.001389   3.007229e+06  -4.907060e+06   \n",
       "3  2018-09-05 00:03:00 [UTC]  58366.002083   3.373872e+06  -4.642623e+06   \n",
       "4  2018-09-05 00:04:00 [UTC]  58366.002778   3.726408e+06  -4.358774e+06   \n",
       "\n",
       "   $x_{z}^{ECI}$  $v_{x}^{ECI}$  $v_{y}^{ECI}$  $v_{z}^{ECI}$  $Latitude$  \\\n",
       "0  -3.889422e+06    6585.969931    3521.633618   -1075.275110  -33.872105   \n",
       "1  -3.945763e+06    6416.316575    3888.579046    -802.090833  -34.422767   \n",
       "2  -3.985606e+06    6219.834159    4239.269980    -525.549955  -34.812566   \n",
       "3  -4.008785e+06    5997.343391    4572.240113    -246.808377  -35.037660   \n",
       "4  -4.015202e+06    5749.773689    4886.097113      32.968751  -35.095786   \n",
       "\n",
       "   $Longitude$     $Altitude$  \n",
       "0   -51.142445  629072.508843  \n",
       "1   -46.973547  629238.609524  \n",
       "2   -42.755088  629347.551276  \n",
       "3   -38.503428  629397.187736  \n",
       "4   -34.236241  629386.330405  "
      ]
     },
     "execution_count": 33,
     "metadata": {},
     "output_type": "execute_result"
    }
   ],
   "source": [
    "orbit_df.head()"
   ]
  },
  {
   "cell_type": "code",
   "execution_count": null,
   "metadata": {},
   "outputs": [],
   "source": []
  },
  {
   "cell_type": "code",
   "execution_count": null,
   "metadata": {},
   "outputs": [],
   "source": []
  },
  {
   "cell_type": "code",
   "execution_count": null,
   "metadata": {},
   "outputs": [],
   "source": []
  }
 ],
 "metadata": {
  "kernelspec": {
   "display_name": "Python 3",
   "language": "python",
   "name": "python3"
  },
  "language_info": {
   "codemirror_mode": {
    "name": "ipython",
    "version": 3
   },
   "file_extension": ".py",
   "mimetype": "text/x-python",
   "name": "python",
   "nbconvert_exporter": "python",
   "pygments_lexer": "ipython3",
   "version": "3.7.3"
  }
 },
 "nbformat": 4,
 "nbformat_minor": 4
}
